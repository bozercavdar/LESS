{
 "cells": [
  {
   "cell_type": "code",
   "execution_count": 129,
   "metadata": {},
   "outputs": [],
   "source": [
    "from sklearn.datasets import load_digits\n",
    "import matplotlib.pyplot as plt\n",
    "import numpy as np\n",
    "from sklearn.model_selection import train_test_split\n",
    "import sys\n",
    "\n",
    "# setting path\n",
    "sys.path.append('../less')\n",
    "# importing\n",
    "from less import LESSRegressor, LESSClassifier\n",
    "from sklearn.linear_model import LinearRegression"
   ]
  },
  {
   "cell_type": "code",
   "execution_count": 104,
   "metadata": {},
   "outputs": [],
   "source": [
    "digits = load_digits()\n",
    "\n",
    "X = digits.data[:100,]\n",
    "y = digits.target[:100]\n",
    "\n",
    "X_train, X_test, y_train, y_test = train_test_split(X, y, test_size=0.33, random_state=2022)\n",
    "\n",
    "x_dim = 8\n",
    "y_dim = 8\n",
    "rect_dim = 3\n",
    "step_amount = 1\n",
    "rect_per_dim = int(np.floor((x_dim-rect_dim)/step_amount) + 1)"
   ]
  },
  {
   "cell_type": "code",
   "execution_count": 78,
   "metadata": {},
   "outputs": [
    {
     "data": {
      "text/plain": [
       "array([[ 0,  1,  2,  3,  4,  5,  6,  7],\n",
       "       [ 8,  9, 10, 11, 12, 13, 14, 15],\n",
       "       [16, 17, 18, 19, 20, 21, 22, 23],\n",
       "       [24, 25, 26, 27, 28, 29, 30, 31],\n",
       "       [32, 33, 34, 35, 36, 37, 38, 39],\n",
       "       [40, 41, 42, 43, 44, 45, 46, 47],\n",
       "       [48, 49, 50, 51, 52, 53, 54, 55],\n",
       "       [56, 57, 58, 59, 60, 61, 62, 63]])"
      ]
     },
     "execution_count": 78,
     "metadata": {},
     "output_type": "execute_result"
    }
   ],
   "source": [
    "numbers = np.arange(64)\n",
    "theArray = numbers.reshape(8,8)\n",
    "theArray"
   ]
  },
  {
   "cell_type": "code",
   "execution_count": 101,
   "metadata": {},
   "outputs": [],
   "source": [
    "def getRectangles(imageArray):\n",
    "    imageArray = imageArray.reshape(x_dim, y_dim)\n",
    "    return np.array([imageArray[x:x+rect_dim,y:y+rect_dim].flatten() for y in range(rect_per_dim) for x in range(rect_per_dim)])"
   ]
  },
  {
   "cell_type": "code",
   "execution_count": 117,
   "metadata": {},
   "outputs": [
    {
     "data": {
      "text/plain": [
       "(67, 36, 9)"
      ]
     },
     "execution_count": 117,
     "metadata": {},
     "output_type": "execute_result"
    }
   ],
   "source": [
    "all_train_rectangles = np.array([getRectangles(X_train[i]) for i in range(X_train.shape[0])])\n",
    "all_train_rectangles.shape"
   ]
  },
  {
   "cell_type": "code",
   "execution_count": 126,
   "metadata": {},
   "outputs": [
    {
     "name": "stdout",
     "output_type": "stream",
     "text": [
      "(67, 9)\n",
      "(67,)\n"
     ]
    }
   ],
   "source": [
    "print(all_train_rectangles[:,0,:].shape)\n",
    "print(y_train.shape)"
   ]
  },
  {
   "cell_type": "code",
   "execution_count": 133,
   "metadata": {},
   "outputs": [
    {
     "name": "stdout",
     "output_type": "stream",
     "text": [
      "[]\n"
     ]
    },
    {
     "data": {
      "text/plain": [
       "[LinearRegression(),\n",
       " LinearRegression(),\n",
       " LinearRegression(),\n",
       " LinearRegression(),\n",
       " LinearRegression(),\n",
       " LinearRegression(),\n",
       " LinearRegression(),\n",
       " LinearRegression(),\n",
       " LinearRegression(),\n",
       " LinearRegression(),\n",
       " LinearRegression(),\n",
       " LinearRegression(),\n",
       " LinearRegression(),\n",
       " LinearRegression(),\n",
       " LinearRegression(),\n",
       " LinearRegression(),\n",
       " LinearRegression(),\n",
       " LinearRegression(),\n",
       " LinearRegression(),\n",
       " LinearRegression(),\n",
       " LinearRegression(),\n",
       " LinearRegression(),\n",
       " LinearRegression(),\n",
       " LinearRegression(),\n",
       " LinearRegression(),\n",
       " LinearRegression(),\n",
       " LinearRegression(),\n",
       " LinearRegression(),\n",
       " LinearRegression(),\n",
       " LinearRegression(),\n",
       " LinearRegression(),\n",
       " LinearRegression(),\n",
       " LinearRegression(),\n",
       " LinearRegression(),\n",
       " LinearRegression(),\n",
       " LinearRegression()]"
      ]
     },
     "execution_count": 133,
     "metadata": {},
     "output_type": "execute_result"
    }
   ],
   "source": [
    "models = []\n",
    "print(models)\n",
    "for i in range(all_train_rectangles.shape[1]):\n",
    "    model = LinearRegression().fit(all_train_rectangles[:,i,:], np.full((all_train_rectangles.shape[0],), y_train[i]))\n",
    "    models.append(model)"
   ]
  }
 ],
 "metadata": {
  "kernelspec": {
   "display_name": "Python 3.7.11 ('base')",
   "language": "python",
   "name": "python3"
  },
  "language_info": {
   "codemirror_mode": {
    "name": "ipython",
    "version": 3
   },
   "file_extension": ".py",
   "mimetype": "text/x-python",
   "name": "python",
   "nbconvert_exporter": "python",
   "pygments_lexer": "ipython3",
   "version": "3.7.11"
  },
  "orig_nbformat": 4,
  "vscode": {
   "interpreter": {
    "hash": "2ff785d5ba3bcc1048be83196582371a1672173103fdad7c1abcc82d754cd09d"
   }
  }
 },
 "nbformat": 4,
 "nbformat_minor": 2
}
